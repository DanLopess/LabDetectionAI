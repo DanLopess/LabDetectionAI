{
  "cells": [
    {
      "cell_type": "markdown",
      "metadata": {
        "collapsed": false,
        "pycharm": {
          "name": "#%% md\n"
        }
      },
      "source": [
        "## Classification using NN"
      ]
    },
    {
      "cell_type": "code",
      "execution_count": 1,
      "metadata": {
        "collapsed": false,
        "pycharm": {
          "name": "#%%\n"
        }
      },
      "outputs": [],
      "source": [
        "# All imports\n",
        "import pandas as pd\n",
        "import numpy as np\n",
        "import matplotlib.pyplot as plt\n",
        "import datetime\n",
        "import lib.utils as util\n",
        "import warnings\n",
        "warnings.filterwarnings(\"ignore\")"
      ]
    },
    {
      "cell_type": "markdown",
      "metadata": {
        "collapsed": false,
        "pycharm": {
          "name": "#%% md\n"
        }
      },
      "source": [
        "### Data Preprocessing"
      ]
    },
    {
      "cell_type": "code",
      "execution_count": 3,
      "metadata": {
        "collapsed": false,
        "pycharm": {
          "name": "#%%\n"
        }
      },
      "outputs": [
        {
          "data": {
            "text/html": [
              "<div>\n",
              "<style scoped>\n",
              "    .dataframe tbody tr th:only-of-type {\n",
              "        vertical-align: middle;\n",
              "    }\n",
              "\n",
              "    .dataframe tbody tr th {\n",
              "        vertical-align: top;\n",
              "    }\n",
              "\n",
              "    .dataframe thead th {\n",
              "        text-align: right;\n",
              "    }\n",
              "</style>\n",
              "<table border=\"1\" class=\"dataframe\">\n",
              "  <thead>\n",
              "    <tr style=\"text-align: right;\">\n",
              "      <th></th>\n",
              "      <th>Date</th>\n",
              "      <th>Time</th>\n",
              "      <th>S1Temp</th>\n",
              "      <th>S2Temp</th>\n",
              "      <th>S3Temp</th>\n",
              "      <th>S1Light</th>\n",
              "      <th>S2Light</th>\n",
              "      <th>S3Light</th>\n",
              "      <th>CO2</th>\n",
              "      <th>PIR1</th>\n",
              "      <th>PIR2</th>\n",
              "      <th>Persons</th>\n",
              "    </tr>\n",
              "  </thead>\n",
              "  <tbody>\n",
              "    <tr>\n",
              "      <th>0</th>\n",
              "      <td>11/01/2021</td>\n",
              "      <td>10:53:33</td>\n",
              "      <td>19.90</td>\n",
              "      <td>19.67</td>\n",
              "      <td>19.49</td>\n",
              "      <td>242</td>\n",
              "      <td>68</td>\n",
              "      <td>106</td>\n",
              "      <td>390.0</td>\n",
              "      <td>0</td>\n",
              "      <td>0</td>\n",
              "      <td>1</td>\n",
              "    </tr>\n",
              "    <tr>\n",
              "      <th>1</th>\n",
              "      <td>11/01/2021</td>\n",
              "      <td>10:54:04</td>\n",
              "      <td>19.90</td>\n",
              "      <td>19.69</td>\n",
              "      <td>19.56</td>\n",
              "      <td>242</td>\n",
              "      <td>66</td>\n",
              "      <td>106</td>\n",
              "      <td>390.0</td>\n",
              "      <td>0</td>\n",
              "      <td>0</td>\n",
              "      <td>1</td>\n",
              "    </tr>\n",
              "    <tr>\n",
              "      <th>2</th>\n",
              "      <td>11/01/2021</td>\n",
              "      <td>10:54:34</td>\n",
              "      <td>19.99</td>\n",
              "      <td>19.66</td>\n",
              "      <td>19.44</td>\n",
              "      <td>242</td>\n",
              "      <td>68</td>\n",
              "      <td>106</td>\n",
              "      <td>390.0</td>\n",
              "      <td>0</td>\n",
              "      <td>0</td>\n",
              "      <td>1</td>\n",
              "    </tr>\n",
              "    <tr>\n",
              "      <th>3</th>\n",
              "      <td>11/01/2021</td>\n",
              "      <td>10:55:05</td>\n",
              "      <td>19.98</td>\n",
              "      <td>19.73</td>\n",
              "      <td>19.47</td>\n",
              "      <td>242</td>\n",
              "      <td>68</td>\n",
              "      <td>106</td>\n",
              "      <td>390.0</td>\n",
              "      <td>0</td>\n",
              "      <td>0</td>\n",
              "      <td>1</td>\n",
              "    </tr>\n",
              "    <tr>\n",
              "      <th>4</th>\n",
              "      <td>11/01/2021</td>\n",
              "      <td>10:55:36</td>\n",
              "      <td>19.95</td>\n",
              "      <td>19.72</td>\n",
              "      <td>19.51</td>\n",
              "      <td>242</td>\n",
              "      <td>68</td>\n",
              "      <td>108</td>\n",
              "      <td>390.0</td>\n",
              "      <td>0</td>\n",
              "      <td>0</td>\n",
              "      <td>1</td>\n",
              "    </tr>\n",
              "    <tr>\n",
              "      <th>...</th>\n",
              "      <td>...</td>\n",
              "      <td>...</td>\n",
              "      <td>...</td>\n",
              "      <td>...</td>\n",
              "      <td>...</td>\n",
              "      <td>...</td>\n",
              "      <td>...</td>\n",
              "      <td>...</td>\n",
              "      <td>...</td>\n",
              "      <td>...</td>\n",
              "      <td>...</td>\n",
              "      <td>...</td>\n",
              "    </tr>\n",
              "    <tr>\n",
              "      <th>10124</th>\n",
              "      <td>16/01/2021</td>\n",
              "      <td>09:01:59</td>\n",
              "      <td>20.00</td>\n",
              "      <td>20.03</td>\n",
              "      <td>19.66</td>\n",
              "      <td>12</td>\n",
              "      <td>14</td>\n",
              "      <td>66</td>\n",
              "      <td>345.0</td>\n",
              "      <td>0</td>\n",
              "      <td>0</td>\n",
              "      <td>0</td>\n",
              "    </tr>\n",
              "    <tr>\n",
              "      <th>10125</th>\n",
              "      <td>16/01/2021</td>\n",
              "      <td>09:02:29</td>\n",
              "      <td>19.99</td>\n",
              "      <td>20.00</td>\n",
              "      <td>19.60</td>\n",
              "      <td>12</td>\n",
              "      <td>14</td>\n",
              "      <td>68</td>\n",
              "      <td>345.0</td>\n",
              "      <td>0</td>\n",
              "      <td>0</td>\n",
              "      <td>0</td>\n",
              "    </tr>\n",
              "    <tr>\n",
              "      <th>10126</th>\n",
              "      <td>16/01/2021</td>\n",
              "      <td>09:03:00</td>\n",
              "      <td>20.08</td>\n",
              "      <td>19.98</td>\n",
              "      <td>19.65</td>\n",
              "      <td>12</td>\n",
              "      <td>14</td>\n",
              "      <td>68</td>\n",
              "      <td>345.0</td>\n",
              "      <td>0</td>\n",
              "      <td>0</td>\n",
              "      <td>0</td>\n",
              "    </tr>\n",
              "    <tr>\n",
              "      <th>10127</th>\n",
              "      <td>16/01/2021</td>\n",
              "      <td>09:03:31</td>\n",
              "      <td>20.05</td>\n",
              "      <td>20.01</td>\n",
              "      <td>19.60</td>\n",
              "      <td>12</td>\n",
              "      <td>14</td>\n",
              "      <td>68</td>\n",
              "      <td>345.0</td>\n",
              "      <td>0</td>\n",
              "      <td>0</td>\n",
              "      <td>0</td>\n",
              "    </tr>\n",
              "    <tr>\n",
              "      <th>10128</th>\n",
              "      <td>16/01/2021</td>\n",
              "      <td>09:04:01</td>\n",
              "      <td>20.06</td>\n",
              "      <td>20.01</td>\n",
              "      <td>19.65</td>\n",
              "      <td>12</td>\n",
              "      <td>14</td>\n",
              "      <td>68</td>\n",
              "      <td>345.0</td>\n",
              "      <td>0</td>\n",
              "      <td>0</td>\n",
              "      <td>0</td>\n",
              "    </tr>\n",
              "  </tbody>\n",
              "</table>\n",
              "<p>10129 rows × 12 columns</p>\n",
              "</div>"
            ],
            "text/plain": [
              "             Date      Time  S1Temp  S2Temp  S3Temp  S1Light  S2Light  \\\n",
              "0      11/01/2021  10:53:33   19.90   19.67   19.49      242       68   \n",
              "1      11/01/2021  10:54:04   19.90   19.69   19.56      242       66   \n",
              "2      11/01/2021  10:54:34   19.99   19.66   19.44      242       68   \n",
              "3      11/01/2021  10:55:05   19.98   19.73   19.47      242       68   \n",
              "4      11/01/2021  10:55:36   19.95   19.72   19.51      242       68   \n",
              "...           ...       ...     ...     ...     ...      ...      ...   \n",
              "10124  16/01/2021  09:01:59   20.00   20.03   19.66       12       14   \n",
              "10125  16/01/2021  09:02:29   19.99   20.00   19.60       12       14   \n",
              "10126  16/01/2021  09:03:00   20.08   19.98   19.65       12       14   \n",
              "10127  16/01/2021  09:03:31   20.05   20.01   19.60       12       14   \n",
              "10128  16/01/2021  09:04:01   20.06   20.01   19.65       12       14   \n",
              "\n",
              "       S3Light    CO2  PIR1  PIR2  Persons  \n",
              "0          106  390.0     0     0        1  \n",
              "1          106  390.0     0     0        1  \n",
              "2          106  390.0     0     0        1  \n",
              "3          106  390.0     0     0        1  \n",
              "4          108  390.0     0     0        1  \n",
              "...        ...    ...   ...   ...      ...  \n",
              "10124       66  345.0     0     0        0  \n",
              "10125       68  345.0     0     0        0  \n",
              "10126       68  345.0     0     0        0  \n",
              "10127       68  345.0     0     0        0  \n",
              "10128       68  345.0     0     0        0  \n",
              "\n",
              "[10129 rows x 12 columns]"
            ]
          },
          "execution_count": 3,
          "metadata": {},
          "output_type": "execute_result"
        }
      ],
      "source": [
        "data = pd.read_csv('data/dataset.csv')\n",
        "data"
      ]
    },
    {
      "cell_type": "code",
      "execution_count": 4,
      "metadata": {
        "collapsed": false,
        "pycharm": {
          "name": "#%%\n"
        }
      },
      "outputs": [
        {
          "data": {
            "image/png": "[encoded data removed]",
            "text/plain": [
              "<Figure size 432x288 with 1 Axes>"
            ]
          },
          "metadata": {
            "needs_background": "light"
          },
          "output_type": "display_data"
        }
      ],
      "source": [
        "# remove missing values\n",
        "data.dropna(inplace=True)\n",
        "data.plot()\n",
        "data.to_csv('data/dataset_no_missing.csv')"
      ]
    },
    {
      "cell_type": "code",
      "execution_count": 4,
      "metadata": {
        "collapsed": false,
        "pycharm": {
          "name": "#%%\n"
        }
      },
      "outputs": [],
      "source": [
        "# prepare dates\n",
        "data['Date'] = data['Date'].astype(str)+' '+data['Time'].astype(str)\n",
        "data.drop(columns=['Time'], inplace=True)"
      ]
    },
    {
      "cell_type": "code",
      "execution_count": 5,
      "metadata": {
        "collapsed": false,
        "pycharm": {
          "name": "#%%\n"
        }
      },
      "outputs": [
        {
          "data": {
            "text/html": [
              "<div>\n",
              "<style scoped>\n",
              "    .dataframe tbody tr th:only-of-type {\n",
              "        vertical-align: middle;\n",
              "    }\n",
              "\n",
              "    .dataframe tbody tr th {\n",
              "        vertical-align: top;\n",
              "    }\n",
              "\n",
              "    .dataframe thead th {\n",
              "        text-align: right;\n",
              "    }\n",
              "</style>\n",
              "<table border=\"1\" class=\"dataframe\">\n",
              "  <thead>\n",
              "    <tr style=\"text-align: right;\">\n",
              "      <th></th>\n",
              "      <th>Date</th>\n",
              "      <th>S1Temp</th>\n",
              "      <th>S2Temp</th>\n",
              "      <th>S3Temp</th>\n",
              "      <th>S1Light</th>\n",
              "      <th>S2Light</th>\n",
              "      <th>S3Light</th>\n",
              "      <th>CO2</th>\n",
              "      <th>PIR1</th>\n",
              "      <th>PIR2</th>\n",
              "      <th>Persons</th>\n",
              "    </tr>\n",
              "  </thead>\n",
              "  <tbody>\n",
              "    <tr>\n",
              "      <th>0</th>\n",
              "      <td>11/01/2021 10:53:33</td>\n",
              "      <td>19.90</td>\n",
              "      <td>19.67</td>\n",
              "      <td>19.49</td>\n",
              "      <td>242</td>\n",
              "      <td>68</td>\n",
              "      <td>106</td>\n",
              "      <td>390.0</td>\n",
              "      <td>0</td>\n",
              "      <td>0</td>\n",
              "      <td>1</td>\n",
              "    </tr>\n",
              "    <tr>\n",
              "      <th>1</th>\n",
              "      <td>11/01/2021 10:54:04</td>\n",
              "      <td>19.90</td>\n",
              "      <td>19.69</td>\n",
              "      <td>19.56</td>\n",
              "      <td>242</td>\n",
              "      <td>66</td>\n",
              "      <td>106</td>\n",
              "      <td>390.0</td>\n",
              "      <td>0</td>\n",
              "      <td>0</td>\n",
              "      <td>1</td>\n",
              "    </tr>\n",
              "    <tr>\n",
              "      <th>2</th>\n",
              "      <td>11/01/2021 10:54:34</td>\n",
              "      <td>19.99</td>\n",
              "      <td>19.66</td>\n",
              "      <td>19.44</td>\n",
              "      <td>242</td>\n",
              "      <td>68</td>\n",
              "      <td>106</td>\n",
              "      <td>390.0</td>\n",
              "      <td>0</td>\n",
              "      <td>0</td>\n",
              "      <td>1</td>\n",
              "    </tr>\n",
              "    <tr>\n",
              "      <th>3</th>\n",
              "      <td>11/01/2021 10:55:05</td>\n",
              "      <td>19.98</td>\n",
              "      <td>19.73</td>\n",
              "      <td>19.47</td>\n",
              "      <td>242</td>\n",
              "      <td>68</td>\n",
              "      <td>106</td>\n",
              "      <td>390.0</td>\n",
              "      <td>0</td>\n",
              "      <td>0</td>\n",
              "      <td>1</td>\n",
              "    </tr>\n",
              "    <tr>\n",
              "      <th>4</th>\n",
              "      <td>11/01/2021 10:55:36</td>\n",
              "      <td>19.95</td>\n",
              "      <td>19.72</td>\n",
              "      <td>19.51</td>\n",
              "      <td>242</td>\n",
              "      <td>68</td>\n",
              "      <td>108</td>\n",
              "      <td>390.0</td>\n",
              "      <td>0</td>\n",
              "      <td>0</td>\n",
              "      <td>1</td>\n",
              "    </tr>\n",
              "    <tr>\n",
              "      <th>...</th>\n",
              "      <td>...</td>\n",
              "      <td>...</td>\n",
              "      <td>...</td>\n",
              "      <td>...</td>\n",
              "      <td>...</td>\n",
              "      <td>...</td>\n",
              "      <td>...</td>\n",
              "      <td>...</td>\n",
              "      <td>...</td>\n",
              "      <td>...</td>\n",
              "      <td>...</td>\n",
              "    </tr>\n",
              "    <tr>\n",
              "      <th>10124</th>\n",
              "      <td>16/01/2021 09:01:59</td>\n",
              "      <td>20.00</td>\n",
              "      <td>20.03</td>\n",
              "      <td>19.66</td>\n",
              "      <td>12</td>\n",
              "      <td>14</td>\n",
              "      <td>66</td>\n",
              "      <td>345.0</td>\n",
              "      <td>0</td>\n",
              "      <td>0</td>\n",
              "      <td>0</td>\n",
              "    </tr>\n",
              "    <tr>\n",
              "      <th>10125</th>\n",
              "      <td>16/01/2021 09:02:29</td>\n",
              "      <td>19.99</td>\n",
              "      <td>20.00</td>\n",
              "      <td>19.60</td>\n",
              "      <td>12</td>\n",
              "      <td>14</td>\n",
              "      <td>68</td>\n",
              "      <td>345.0</td>\n",
              "      <td>0</td>\n",
              "      <td>0</td>\n",
              "      <td>0</td>\n",
              "    </tr>\n",
              "    <tr>\n",
              "      <th>10126</th>\n",
              "      <td>16/01/2021 09:03:00</td>\n",
              "      <td>20.08</td>\n",
              "      <td>19.98</td>\n",
              "      <td>19.65</td>\n",
              "      <td>12</td>\n",
              "      <td>14</td>\n",
              "      <td>68</td>\n",
              "      <td>345.0</td>\n",
              "      <td>0</td>\n",
              "      <td>0</td>\n",
              "      <td>0</td>\n",
              "    </tr>\n",
              "    <tr>\n",
              "      <th>10127</th>\n",
              "      <td>16/01/2021 09:03:31</td>\n",
              "      <td>20.05</td>\n",
              "      <td>20.01</td>\n",
              "      <td>19.60</td>\n",
              "      <td>12</td>\n",
              "      <td>14</td>\n",
              "      <td>68</td>\n",
              "      <td>345.0</td>\n",
              "      <td>0</td>\n",
              "      <td>0</td>\n",
              "      <td>0</td>\n",
              "    </tr>\n",
              "    <tr>\n",
              "      <th>10128</th>\n",
              "      <td>16/01/2021 09:04:01</td>\n",
              "      <td>20.06</td>\n",
              "      <td>20.01</td>\n",
              "      <td>19.65</td>\n",
              "      <td>12</td>\n",
              "      <td>14</td>\n",
              "      <td>68</td>\n",
              "      <td>345.0</td>\n",
              "      <td>0</td>\n",
              "      <td>0</td>\n",
              "      <td>0</td>\n",
              "    </tr>\n",
              "  </tbody>\n",
              "</table>\n",
              "<p>10125 rows × 11 columns</p>\n",
              "</div>"
            ],
            "text/plain": [
              "                      Date  S1Temp  S2Temp  S3Temp  S1Light  S2Light  S3Light  \\\n",
              "0      11/01/2021 10:53:33   19.90   19.67   19.49      242       68      106   \n",
              "1      11/01/2021 10:54:04   19.90   19.69   19.56      242       66      106   \n",
              "2      11/01/2021 10:54:34   19.99   19.66   19.44      242       68      106   \n",
              "3      11/01/2021 10:55:05   19.98   19.73   19.47      242       68      106   \n",
              "4      11/01/2021 10:55:36   19.95   19.72   19.51      242       68      108   \n",
              "...                    ...     ...     ...     ...      ...      ...      ...   \n",
              "10124  16/01/2021 09:01:59   20.00   20.03   19.66       12       14       66   \n",
              "10125  16/01/2021 09:02:29   19.99   20.00   19.60       12       14       68   \n",
              "10126  16/01/2021 09:03:00   20.08   19.98   19.65       12       14       68   \n",
              "10127  16/01/2021 09:03:31   20.05   20.01   19.60       12       14       68   \n",
              "10128  16/01/2021 09:04:01   20.06   20.01   19.65       12       14       68   \n",
              "\n",
              "         CO2  PIR1  PIR2  Persons  \n",
              "0      390.0     0     0        1  \n",
              "1      390.0     0     0        1  \n",
              "2      390.0     0     0        1  \n",
              "3      390.0     0     0        1  \n",
              "4      390.0     0     0        1  \n",
              "...      ...   ...   ...      ...  \n",
              "10124  345.0     0     0        0  \n",
              "10125  345.0     0     0        0  \n",
              "10126  345.0     0     0        0  \n",
              "10127  345.0     0     0        0  \n",
              "10128  345.0     0     0        0  \n",
              "\n",
              "[10125 rows x 11 columns]"
            ]
          },
          "execution_count": 5,
          "metadata": {},
          "output_type": "execute_result"
        }
      ],
      "source": [
        "data"
      ]
    },
    {
      "cell_type": "code",
      "execution_count": 6,
      "metadata": {
        "collapsed": false,
        "pycharm": {
          "name": "#%%\n"
        }
      },
      "outputs": [],
      "source": [
        "df_without_outliers = util.detect_and_remove_outliers_std(data, k=6, ignore_cols=('Date', 'Persons'))\n",
        "# removed 4 outliers (which dont make sense)"
      ]
    },
    {
      "cell_type": "code",
      "execution_count": 7,
      "metadata": {
        "collapsed": false,
        "pycharm": {
          "name": "#%%\n"
        }
      },
      "outputs": [
        {
          "data": {
            "text/plain": [
              "<AxesSubplot:>"
            ]
          },
          "execution_count": 7,
          "metadata": {},
          "output_type": "execute_result"
        },
        {
          "data": {
            "image/png": "[encoded data removed]",
            "text/plain": [
              "<Figure size 432x288 with 1 Axes>"
            ]
          },
          "metadata": {
            "needs_background": "light"
          },
          "output_type": "display_data"
        }
      ],
      "source": [
        "df_without_outliers.plot()"
      ]
    },
    {
      "cell_type": "code",
      "execution_count": 8,
      "metadata": {
        "collapsed": false,
        "pycharm": {
          "name": "#%%\n"
        }
      },
      "outputs": [],
      "source": [
        "# in the end, test if averaging outliers is a better choice and has better results\n",
        "# for k = 1 and k = 2 it removes too many relevant datapoints , so I chose k=4 (will test for k=2, k=3, k=3 in the end)\n",
        "df_processed = df_without_outliers.copy()\n",
        "df_processed.reset_index(inplace=True, drop=True)\n",
        "\n",
        "# Decided to use new columns for using time information in the models\n",
        "df_processed_with_dates = df_processed.copy()\n",
        "format = \"%d/%m/%Y %H:%M:%S\"\n",
        "df_processed_with_dates['Date'] = df_processed_with_dates['Date'].apply(lambda date: datetime.datetime.strptime(date, format))\n",
        "df_processed_with_dates['Day'] = df_processed_with_dates['Date'].apply(lambda time: time.day)\n",
        "df_processed_with_dates['Hour'] = df_processed_with_dates['Date'].apply(lambda time: time.hour)\n",
        "df_processed_with_dates['Minute'] = df_processed_with_dates['Date'].apply(lambda time: time.minute)\n",
        "df_processed_with_dates['Second'] = df_processed_with_dates['Date'].apply(lambda time: time.second)\n",
        "\n",
        "df_processed.drop('Date', axis=1, inplace=True)\n",
        "df_processed_with_dates.drop('Date', axis=1, inplace=True)"
      ]
    },
    {
      "cell_type": "code",
      "execution_count": 9,
      "metadata": {
        "collapsed": false,
        "pycharm": {
          "name": "#%%\n"
        }
      },
      "outputs": [
        {
          "data": {
            "image/png": "[encoded data removed]",
            "text/plain": [
              "<Figure size 864x864 with 2 Axes>"
            ]
          },
          "metadata": {
            "needs_background": "light"
          },
          "output_type": "display_data"
        }
      ],
      "source": [
        "from matplotlib.pyplot import figure, savefig, show, title\n",
        "from seaborn import heatmap\n",
        "\n",
        "fig = figure(figsize=[12, 12])\n",
        "corr_mtx = abs(df_processed_with_dates.corr())\n",
        "heatmap(abs(corr_mtx), xticklabels=corr_mtx.columns, yticklabels=corr_mtx.columns, annot=True, cmap='Blues')\n",
        "title('Correlation analysis')\n",
        "show()"
      ]
    },
    {
      "cell_type": "code",
      "execution_count": 10,
      "metadata": {
        "collapsed": false,
        "pycharm": {
          "name": "#%%\n"
        }
      },
      "outputs": [],
      "source": [
        "# FEATURE SELECTION\n",
        "# Looking at the correlation matrix, we see that seconds and minutes is not\n",
        "# relevant at all and days will damage our ability to predict future occurrences\n",
        "# all other features have a good enough degree of correlation that we decided not to remove them\n",
        "\n",
        "df_processed_with_dates.drop('Minute', axis=1, inplace=True)\n",
        "df_processed_with_dates.drop('Second', axis=1, inplace=True)\n",
        "df_processed_with_dates.drop('Day', axis=1, inplace=True)"
      ]
    },
    {
      "cell_type": "markdown",
      "metadata": {
        "collapsed": false,
        "pycharm": {
          "name": "#%% md\n"
        }
      },
      "source": [
        "# Classifier A"
      ]
    },
    {
      "cell_type": "code",
      "execution_count": 22,
      "metadata": {
        "collapsed": false,
        "pycharm": {
          "name": "#%%\n"
        }
      },
      "outputs": [],
      "source": [
        "target_name = 'Persons'\n",
        "\n",
        "\n",
        "def prepare_data_class_a(df):\n",
        "    X = df.drop([target_name], axis=1)\n",
        "    y = df[target_name]\n",
        "    y = y.apply(lambda x: x > 2)\n",
        "    return *util.split_dataset(X, y), X, y\n",
        "\n",
        "\n",
        "def prepare_data_with_zscore(df):\n",
        "    x_train, y_train, x_valid, y_valid, x_test, y_test, X, y = prepare_data_class_a(\n",
        "        df.copy())\n",
        "    x_train = stats.zscore(x_train)\n",
        "    x_valid = stats.zscore(x_valid)\n",
        "    x_test = stats.zscore(x_test)\n",
        "    return x_train, y_train, x_valid, y_valid, x_test, y_test, X, y"
      ]
    },
    {
      "cell_type": "code",
      "execution_count": 23,
      "metadata": {
        "collapsed": false,
        "pycharm": {
          "name": "#%%\n"
        }
      },
      "outputs": [
        {
          "name": "stdout",
          "output_type": "stream",
          "text": [
            "False    6528\n",
            "True      556\n",
            "Name: Persons, dtype: int64\n",
            "False    6528\n",
            "True      556\n",
            "Name: Persons, dtype: int64\n"
          ]
        }
      ],
      "source": [
        "from scipy import stats\n",
        "\n",
        "# test split (without_dates)\n",
        "x_train, y_train, x_valid, y_valid, x_test, y_test, X, y = prepare_data_class_a(\n",
        "    df_processed)\n",
        "\n",
        "# test split with dates\n",
        "x_d_train, y_d_train, x_d_valid, y_d_valid, x_d_test, y_d_test, X_w_dates, y_w_dates = prepare_data_class_a(\n",
        "    df_processed_with_dates)\n",
        "\n",
        "# zscore scaling\n",
        "x_zs_train, y_zs_train, x_zs_valid, y_zs_valid, x_zs_test, y_zs_test, X_zscore, y_zscore = prepare_data_with_zscore(\n",
        "    df_processed)\n",
        "\n",
        "# zscore scaling with dates\n",
        "x_d_zs_train, y_d_zs_train, x_d_zs_valid, y_d_zs_valid, x_d_zs_test, y_d_zs_test, X_d_zscore, y_d_zscore = prepare_data_with_zscore(\n",
        "    df_processed_with_dates)\n",
        "\n",
        "# Will not apply min max because we dont know the range of the data to predict and the results were lower than zscore\n",
        "\n",
        "# balanced df\n",
        "x_bal_train_dfs = util.apply_balancing(x_d_train, y_d_train, target_name)\n",
        "x_zs_bal_train_dfs = util.apply_balancing(x_zs_train, y_zs_train, target_name)\n",
        "\n",
        "data_prep_approaches = {\n",
        "    'Default without hour': (x_train, y_train, x_valid, y_valid, x_test,\n",
        "                             y_test),\n",
        "    'Default with hour': (x_d_train, y_d_train, x_d_valid, y_d_valid, x_d_test,\n",
        "                          y_d_test),\n",
        "    'Zscore without hour': (x_zs_train, y_zs_train, x_zs_valid, y_zs_valid,\n",
        "                            x_zs_test, y_zs_test),\n",
        "    'Zscore with hour': (x_d_zs_train, y_d_zs_train, x_d_zs_valid,\n",
        "                         y_d_zs_valid, x_d_zs_test, y_d_zs_test),\n",
        "    'Zscore - Over balanced':\n",
        "    (x_zs_bal_train_dfs['over'][0], x_zs_bal_train_dfs['over'][1], x_zs_valid,\n",
        "     y_zs_valid, x_zs_test, y_zs_test),\n",
        "    'Zscore - SMOTE balanced':\n",
        "    (x_zs_bal_train_dfs['smote'][0], x_zs_bal_train_dfs['smote'][1],\n",
        "     x_zs_valid, y_zs_valid, x_zs_test, y_zs_test),\n",
        "    'Default with hour - Over balanced':\n",
        "    (x_bal_train_dfs['over'][0], x_bal_train_dfs['over'][1], x_d_valid,\n",
        "     y_d_valid, x_d_test, y_d_test),\n",
        "    'Default with hour - SMOTE balanced':\n",
        "    (x_bal_train_dfs['smote'][0], x_bal_train_dfs['smote'][1], x_d_valid,\n",
        "     y_d_valid, x_d_test, y_d_test),\n",
        "}"
      ]
    },
    {
      "cell_type": "markdown",
      "metadata": {
        "collapsed": false,
        "pycharm": {
          "name": "#%% md\n"
        }
      },
      "source": [
        "### Baseline"
      ]
    },
    {
      "cell_type": "code",
      "execution_count": 24,
      "metadata": {
        "collapsed": false,
        "pycharm": {
          "name": "#%%\n"
        }
      },
      "outputs": [
        {
          "name": "stdout",
          "output_type": "stream",
          "text": [
            "======== Default without hour =========\n",
            "(0.9426877470355731, 0.8947368421052632, 0.576271186440678, 0.7010309278350517)\n",
            "0.7786816758541415\n",
            "===================================\n",
            "======== Default with hour =========\n",
            "(0.9565217391304348, 0.6447368421052632, 0.7424242424242424, 0.6901408450704226)\n",
            "0.7584559171825908\n",
            "===================================\n",
            "======== Zscore without hour =========\n",
            "(0.991600790513834, 0.9276315789473685, 0.9591836734693877, 0.94314381270903)\n",
            "0.955389963909905\n",
            "===================================\n",
            "======== Zscore with hour =========\n",
            "(0.9920948616600791, 0.9407894736842105, 0.9533333333333334, 0.9470198675496689)\n",
            "0.958309384056823\n",
            "===================================\n",
            "======== Zscore - Over balanced =========\n",
            "(0.9891304347826086, 0.9736842105263158, 0.891566265060241, 0.930817610062893)\n",
            "0.9462996301080145\n",
            "===================================\n",
            "======== Zscore - SMOTE balanced =========\n",
            "(0.991600790513834, 0.9736842105263158, 0.9192546583850931, 0.9456869009584664)\n",
            "0.9575566400959273\n",
            "===================================\n",
            "======== Default with hour - Over balanced =========\n",
            "(0.9594861660079052, 0.8157894736842105, 0.6966292134831461, 0.7515151515151515)\n",
            "0.8058550011726033\n",
            "===================================\n",
            "======== Default with hour - SMOTE balanced =========\n",
            "(0.8883399209486166, 0.8026315789473685, 0.3836477987421384, 0.5191489361702128)\n",
            "0.648442058702084\n",
            "===================================\n",
            "Best model (0.958309384056823): Zscore with hour-MLPClassifier(hidden_layer_sizes=5, random_state=42, solver='lbfgs')\n"
          ]
        }
      ],
      "source": [
        "baseline_models = {}\n",
        "best_mlp_model = None\n",
        "for key, value in data_prep_approaches.items():\n",
        "    print(f\"======== {key} =========\")\n",
        "    x_train, y_train, x_valid, y_valid, x_test, y_test = value\n",
        "    neigh, mlp = util.run_class_baseline(x_train, y_train, x_valid, y_valid)\n",
        "    scores_mlp = mlp[1]\n",
        "    print(scores_mlp)\n",
        "    avg_mlp_score = np.mean(scores_mlp)\n",
        "    print(avg_mlp_score)\n",
        "    baseline_models[key] = (neigh, mlp)\n",
        "    if (best_mlp_model is None or avg_mlp_score > best_mlp_model[1]):\n",
        "        best_mlp_model = (mlp[0], avg_mlp_score, key)\n",
        "    print(\"===================================\")\n",
        "\n",
        "print(\n",
        "    f\"Best model ({best_mlp_model[1]}): {best_mlp_model[2]}-{best_mlp_model[0]}\"\n",
        ")\n"
      ]
    },
    {
      "cell_type": "markdown",
      "metadata": {
        "collapsed": false,
        "pycharm": {
          "name": "#%% md\n"
        }
      },
      "source": [
        "### Hyperparameter tuning with Cross Validation\n",
        "\n",
        "After having a baseline model, we're going to tune the parametersto see if we get any improvement.\n",
        "\n",
        "We also had in mind that our baseline showed a better result using zscore with the feature of hours.\n",
        "\n",
        "We'll mix and match them to get the most out of the models and test it with cross validation. \n",
        "\n",
        "This is the setup that we'll be working with:\n",
        "\n",
        "<img src=\"https://scikit-learn.org/stable/_images/grid_search_workflow.png\" alt=\"drawing\" width=\"600\"/>"
      ]
    },
    {
      "cell_type": "code",
      "execution_count": 28,
      "metadata": {
        "collapsed": false,
        "pycharm": {
          "name": "#%%\n"
        }
      },
      "outputs": [
        {
          "name": "stdout",
          "output_type": "stream",
          "text": [
            "[(2, 2), (2, 8), (2, 14), (2, 20), (2, 26), (2, 32), (2, 38), (2, 44), (8, 2), (8, 8), (8, 14), (8, 20), (8, 26), (8, 32), (8, 38), (8, 44), (14, 2), (14, 8), (14, 14), (14, 20), (14, 26), (14, 32), (14, 38), (14, 44), (20, 2), (20, 8), (20, 14), (20, 20), (20, 26), (20, 32), (20, 38), (20, 44), (26, 2), (26, 8), (26, 14), (26, 20), (26, 26), (26, 32), (26, 38), (26, 44), (32, 2), (32, 8), (32, 14), (32, 20), (32, 26), (32, 32), (32, 38), (32, 44), (38, 2), (38, 8), (38, 14), (38, 20), (38, 26), (38, 32), (38, 38), (38, 44), (44, 2), (44, 8), (44, 14), (44, 20), (44, 26), (44, 32), (44, 38), (44, 44)]\n",
            "1152\n",
            "16\n"
          ]
        }
      ],
      "source": [
        "# generate hyper parameters\n",
        "# preliminary testing showed that the sweet spot for layer sizes is with 2 hidden layers, and more than 2 neurons\n",
        "# we need further testing for finding the best parameter\n",
        "layer_sizes = []\n",
        "for i in np.arange(2, 50, 6):\n",
        "    for f in np.arange(2, 50, 6):\n",
        "        layer_sizes.append((i, f))\n",
        "\n",
        "print(layer_sizes)\n",
        "hyper_parameters = {\n",
        "    \"hidden_layer_sizes\": layer_sizes,\n",
        "    'activation': ['tanh', \"relu\", \"logistic\"], \n",
        "    'solver': ['lbfgs','sgd', 'adam'],\n",
        "    'alpha': [0.001, 0.01],\n",
        "    'learning_rate': ['adaptive'],\n",
        "}\n",
        "\n",
        "parameters = []\n",
        "for a in hyper_parameters['hidden_layer_sizes'] :\n",
        "    for b in hyper_parameters['activation'] :\n",
        "        for c in hyper_parameters['solver'] :\n",
        "            for d in hyper_parameters['alpha'] :\n",
        "                for e in hyper_parameters['learning_rate'] :\n",
        "                    parameters.append( ( a, b, c, d, e) )\n",
        "\n",
        "print(len(parameters))\n",
        "import psutil\n",
        "\n",
        "thread_count = psutil.cpu_count()\n",
        "print(thread_count)"
      ]
    },
    {
      "cell_type": "code",
      "execution_count": 29,
      "metadata": {},
      "outputs": [],
      "source": [
        "from sklearn.neural_network import MLPClassifier\n",
        "import psutil\n",
        "from tqdm.auto import tqdm\n",
        "\n",
        "x_train = x_d_zs_train\n",
        "y_train = y_d_zs_train\n",
        "x_valid = x_d_zs_valid\n",
        "y_valid = y_d_zs_valid\n",
        "x_test = x_d_zs_test\n",
        "y_test = y_d_zs_test\n",
        "\n",
        "# we'll now join both train and validation so that we can perform cross validation\n",
        "X = pd.concat([x_train, x_valid], ignore_index=True)\n",
        "y = pd.concat([y_train, y_valid], ignore_index=True)\n",
        "cv = 5 # fold count\n",
        "max_iter = 500"
      ]
    },
    {
      "cell_type": "code",
      "execution_count": 30,
      "metadata": {},
      "outputs": [
        {
          "data": {
            "application/vnd.jupyter.widget-view+json": {
              "model_id": "12ad5aec8ae4499ebbc175afb0fbcee6",
              "version_major": 2,
              "version_minor": 0
            },
            "text/plain": [
              "Running models...:   0%|          | 0/1152 [00:00<?, ?it/s]"
            ]
          },
          "metadata": {},
          "output_type": "display_data"
        },
        {
          "name": "stdout",
          "output_type": "stream",
          "text": [
            "(MLPClassifier(alpha=0.001, hidden_layer_sizes=(44, 26),\n",
            "              learning_rate='adaptive', max_iter=500, solver='lbfgs'), 0.9798763968892107, {'fit_time': array([13.68947768, 13.01787329, 14.93661451, 15.35199261, 15.01969028]), 'score_time': array([0.00900888, 0.01000285, 0.00800967, 0.00800729, 0.00900817]), 'test_accuracy': array([0.99396268, 0.99506037, 0.99560922, 0.99725426, 0.99670511]), 'test_balanced_accuracy': array([0.97738514, 0.9844274 , 0.98794852, 0.99201494, 0.98846884]), 'test_recall': array([0.95774648, 0.97183099, 0.97887324, 0.9858156 , 0.9787234 ]), 'test_precision': array([0.96453901, 0.96503497, 0.96527778, 0.97887324, 0.9787234 ]), 'test_f1': array([0.96113074, 0.96842105, 0.97202797, 0.98233216, 0.9787234 ])}, ((44, 26), 'relu', 'lbfgs', 0.001, 'adaptive'))\n"
          ]
        }
      ],
      "source": [
        "models = []  # [(model, acc)]\n",
        "best_model = None\n",
        "\n",
        "for i in tqdm (range (len(parameters)), desc=\"Running models...\"):\n",
        "    p = parameters[i]\n",
        "    mlp = MLPClassifier(hidden_layer_sizes=p[0],\n",
        "                        activation=p[1],\n",
        "                        solver=p[2],\n",
        "                        alpha=p[3],\n",
        "                        learning_rate=p[4],\n",
        "                        max_iter=max_iter)\n",
        "    scores, avg_score = util.cross_validation(X, y, mlp, cv)\n",
        "    models.append((mlp, avg_score, scores, p))\n",
        "\n",
        "for m in models:\n",
        "    if best_model is None or best_model[1] < m[1]:\n",
        "        best_model = m\n",
        "print(best_model)\n",
        "best_model[0].fit(x_train, y_train)\n",
        "filename = f\"models/classifier_A\"\n",
        "util.save_model(filename, best_model[0])"
      ]
    },
    {
      "cell_type": "markdown",
      "metadata": {},
      "source": [
        "### Evaluation"
      ]
    },
    {
      "cell_type": "code",
      "execution_count": 25,
      "metadata": {},
      "outputs": [
        {
          "name": "stdout",
          "output_type": "stream",
          "text": [
            "MLP accuracy : 0.991600790513834\n",
            "MLP recall : 0.9868421052631579\n",
            "MLP precision : 0.9090909090909091\n",
            "MLP f1 score : 0.9463722397476341\n"
          ]
        },
        {
          "data": {
            "image/png": "[encoded data removed]",
            "text/plain": [
              "<Figure size 1080x360 with 3 Axes>"
            ]
          },
          "metadata": {
            "needs_background": "light"
          },
          "output_type": "display_data"
        }
      ],
      "source": [
        "# Showing results for the validation dataset\n",
        "filename = f\"models/classifier_A\"\n",
        "loaded_model = util.load_model(filename)\n",
        "y_pred = loaded_model.predict(x_valid)\n",
        "results = util.get_model_results(y_valid, y_pred)\n",
        "print(\"Results for Validation Set\")\n",
        "util.print_results('MLP',\n",
        "                   results,\n",
        "                   y_valid,\n",
        "                   y_pred,\n",
        "                   x_valid,\n",
        "                   loaded_model,\n",
        "                   with_chart=True)"
      ]
    },
    {
      "cell_type": "code",
      "execution_count": 26,
      "metadata": {},
      "outputs": [
        {
          "name": "stdout",
          "output_type": "stream",
          "text": [
            "MLP accuracy : 0.998025666337611\n",
            "MLP recall : 0.9863013698630136\n",
            "MLP precision : 0.9863013698630136\n",
            "MLP f1 score : 0.9863013698630136\n"
          ]
        },
        {
          "data": {
            "image/png": "[encoded data removed]",
            "text/plain": [
              "<Figure size 1080x360 with 3 Axes>"
            ]
          },
          "metadata": {
            "needs_background": "light"
          },
          "output_type": "display_data"
        }
      ],
      "source": [
        "# Showing results for the test dataset\n",
        "loaded_model = util.load_model(filename)\n",
        "y_pred = loaded_model.predict(x_test)\n",
        "results = util.get_model_results(y_test, y_pred)\n",
        "print(\"Results for Test Set\")\n",
        "util.print_results('MLP',\n",
        "                   results,\n",
        "                   y_test,\n",
        "                   y_pred,\n",
        "                   x_test,\n",
        "                   loaded_model,\n",
        "                   with_chart=True)"
      ]
    },
    {
      "cell_type": "markdown",
      "metadata": {
        "collapsed": false,
        "pycharm": {
          "name": "#%% md\n"
        }
      },
      "source": [
        "# Classifier B"
      ]
    },
    {
      "cell_type": "markdown",
      "metadata": {},
      "source": [
        "### Preparation"
      ]
    },
    {
      "cell_type": "code",
      "execution_count": 12,
      "metadata": {},
      "outputs": [],
      "source": [
        "target_name = 'Persons'\n",
        "\n",
        "def prepare_data_class_b(df):\n",
        "    X = df.drop([target_name], axis=1)\n",
        "    y = df[target_name]\n",
        "    return *util.split_dataset(X, y), X, y\n",
        "\n",
        "\n",
        "def prepare_data_b_with_zscore(df):\n",
        "    x_train, y_train, x_valid, y_valid, x_test, y_test, X, y = prepare_data_class_b(\n",
        "        df.copy())\n",
        "    x_train = stats.zscore(x_train)\n",
        "    x_valid = stats.zscore(x_valid)\n",
        "    x_test = stats.zscore(x_test)\n",
        "    return x_train, y_train, x_valid, y_valid, x_test, y_test, X, y"
      ]
    },
    {
      "cell_type": "code",
      "execution_count": 13,
      "metadata": {},
      "outputs": [],
      "source": [
        "from scipy import stats\n",
        "\n",
        "# test split (without_dates)\n",
        "x_train, y_train, x_valid, y_valid, x_test, y_test, X, y = prepare_data_class_b(\n",
        "    df_processed)\n",
        "\n",
        "# test split with dates\n",
        "x_d_train, y_d_train, x_d_valid, y_d_valid, x_d_test, y_d_test, X_w_dates, y_w_dates = prepare_data_class_b(\n",
        "    df_processed_with_dates)\n",
        "\n",
        "# zscore scaling\n",
        "x_zs_train, y_zs_train, x_zs_valid, y_zs_valid, x_zs_test, y_zs_test, X_zscore, y_zscore = prepare_data_b_with_zscore(\n",
        "    df_processed)\n",
        "\n",
        "# zscore scaling with dates\n",
        "x_d_zs_train, y_d_zs_train, x_d_zs_valid, y_d_zs_valid, x_d_zs_test, y_d_zs_test, X_d_zscore, y_d_zscore = prepare_data_b_with_zscore(\n",
        "    df_processed_with_dates)\n",
        "\n",
        "data_prep_approaches_B = {\n",
        "    'Default without hour':\n",
        "    (x_train, y_train, x_valid, y_valid, x_test, y_test),\n",
        "    'Default with hour':\n",
        "    (x_d_train, y_d_train, x_d_valid, y_d_valid, x_d_test, y_d_test),\n",
        "    'Zscore without hour':\n",
        "    (x_zs_train, y_zs_train, x_zs_valid, y_zs_valid, x_zs_test, y_zs_test),\n",
        "    'Zscore with hour': (x_d_zs_train, y_d_zs_train, x_d_zs_valid,\n",
        "                         y_d_zs_valid, x_d_zs_test, y_d_zs_test),\n",
        "}"
      ]
    },
    {
      "cell_type": "code",
      "execution_count": 14,
      "metadata": {},
      "outputs": [
        {
          "data": {
            "image/png": "[encoded data removed]",
            "text/plain": [
              "<Figure size 432x288 with 1 Axes>"
            ]
          },
          "metadata": {
            "needs_background": "light"
          },
          "output_type": "display_data"
        },
        {
          "data": {
            "image/png": "[encoded data removed]",
            "text/plain": [
              "<Figure size 432x288 with 1 Axes>"
            ]
          },
          "metadata": {
            "needs_background": "light"
          },
          "output_type": "display_data"
        }
      ],
      "source": [
        "# Studying Data balancing\n",
        "\n",
        "import matplotlib.pyplot as plt\n",
        "\n",
        "x_train = x_d_zs_train.copy()\n",
        "y_train = y_d_zs_train.copy()\n",
        "x_valid = x_d_zs_valid.copy()\n",
        "y_valid = y_d_zs_valid.copy()\n",
        "x_test = x_d_zs_test.copy()\n",
        "y_test = y_d_zs_test.copy()\n",
        "\n",
        "count = y_train.value_counts()\n",
        "count.plot.bar()\n",
        "plt.ylabel('Number of records')\n",
        "plt.xlabel('Target Class')\n",
        "plt.show()\n",
        "\n",
        "# Class 0 is much more apparent\n",
        "\n",
        "from imblearn.over_sampling import SMOTE\n",
        "\n",
        "over_sampler = SMOTE()\n",
        "x_bal, y_bal = over_sampler.fit_resample(x_train, y_train)\n",
        "\n",
        "\n",
        "count = y_bal.value_counts()\n",
        "count.plot.bar()\n",
        "plt.ylabel('Number of records')\n",
        "plt.xlabel('Target Class')\n",
        "plt.show()\n",
        "\n",
        "# We balanced the data for each minority class (SMOTE function default)"
      ]
    },
    {
      "cell_type": "code",
      "execution_count": 15,
      "metadata": {},
      "outputs": [],
      "source": [
        "# Applying multiclass balancing\n",
        "\n",
        "x_d_train_bal, y_d_train_bal = util.balancing_multiclass(x_d_train, y_d_train)\n",
        "x_zs_train_bal, y_zs_train_bal = util.balancing_multiclass(x_zs_train, y_zs_train)\n",
        "x_d_zs_train_bal, y_d_zs_train_bal = util.balancing_multiclass(x_d_zs_train, y_d_zs_train)\n",
        "\n",
        "data_prep_approaches_B['Zscore - SMOTE sampled'] = (x_zs_train_bal,\n",
        "                                                    y_zs_train_bal, x_zs_valid,\n",
        "                                                    y_zs_valid, x_zs_test,\n",
        "                                                    y_zs_test)\n",
        "data_prep_approaches_B['Zscore with hour - SMOTE sampled'] = (x_d_zs_train_bal, y_d_zs_train_bal, x_d_zs_valid, y_d_zs_valid, x_d_zs_test, y_d_zs_test)\n",
        "data_prep_approaches_B['Default with hour - SMOTE sampled'] = (x_d_train_bal, y_d_train_bal, x_d_valid,y_d_valid, x_d_test, y_d_test)"
      ]
    },
    {
      "cell_type": "code",
      "execution_count": 15,
      "metadata": {},
      "outputs": [
        {
          "name": "stdout",
          "output_type": "stream",
          "text": [
            "======== Default without hour =========\n",
            "KNN: 0.9861059261875557\n",
            "MLP: 0.4698283816941\n",
            "===================================\n",
            "======== Default with hour =========\n",
            "KNN: 0.9861059261875557\n",
            "MLP: 0.4698283816941\n",
            "===================================\n",
            "======== Zscore without hour =========\n",
            "KNN: 0.9819599058031765\n",
            "MLP: 0.9780352018405342\n",
            "===================================\n",
            "======== Zscore with hour =========\n",
            "KNN: 0.9821122450351863\n",
            "MLP: 0.9801278924103124\n",
            "===================================\n",
            "======== Zscore - SMOTE sampled =========\n",
            "KNN: 0.9975933213184398\n",
            "MLP: 0.9754857209124722\n",
            "===================================\n",
            "======== Zscore with hour - SMOTE sampled =========\n",
            "KNN: 0.9968313140131032\n",
            "MLP: 0.9789144225340835\n",
            "===================================\n",
            "======== Default with hour - SMOTE sampled =========\n",
            "KNN: 0.9965803034261855\n",
            "MLP: 0.2242523071914156\n",
            "===================================\n",
            "Best model (0.9801278924103124): Zscore with hour-MLPClassifier(hidden_layer_sizes=5, random_state=42, solver='lbfgs')\n"
          ]
        }
      ],
      "source": [
        "baseline_models_B = {}\n",
        "best_mlp_model_B = None\n",
        "for key, value in data_prep_approaches_B.items():\n",
        "    print(f\"======== {key} =========\")\n",
        "    x_train, y_train, x_valid, y_valid, x_test, y_test = value\n",
        "    neigh, mlp = util.run_class_baseline(x_train, y_train, x_valid, y_valid, ignore_results=True)\n",
        "    X = pd.concat([x_train, x_valid], ignore_index=True)\n",
        "    y = pd.concat([y_train, y_valid], ignore_index=True)\n",
        "    knn_score, knn_all_avg_score = util.cross_validation(X, y, neigh, fold_count=5, multiclass=True)\n",
        "    mlp_score, mlp_all_avg_score = util.cross_validation(X, y, mlp, fold_count=5, multiclass=True)\n",
        "    print(f'KNN: {knn_all_avg_score}')\n",
        "    print(f'MLP: {mlp_all_avg_score}')\n",
        "    neigh.fit(x_train, y_train)\n",
        "    mlp.fit(x_train, y_train)\n",
        "    baseline_models_B[key] = (neigh, mlp)\n",
        "    if (best_mlp_model_B is None or mlp_all_avg_score > best_mlp_model_B[1]):\n",
        "        best_mlp_model_B = (mlp, mlp_all_avg_score, key)\n",
        "    print(\"===================================\")\n",
        "\n",
        "print(\n",
        "    f\"Best model ({best_mlp_model_B[1]}): {best_mlp_model_B[2]}-{best_mlp_model_B[0]}\"\n",
        ")\n",
        "\n",
        "# Apparently smote sampling did not help the avg score of the model and the best is zscore with dates\n",
        "# but zscore SMOTE balanced is a more reliable dataset, because we're dealing with\n",
        "# classes that contain the same occurrences as the others"
      ]
    },
    {
      "cell_type": "markdown",
      "metadata": {},
      "source": [
        "### Hyperparameter tuning with Cross Validation\n",
        "\n",
        "Now we'll perform the same hyperparameter tuning that we applied to the classifier A."
      ]
    },
    {
      "cell_type": "code",
      "execution_count": 17,
      "metadata": {},
      "outputs": [
        {
          "name": "stdout",
          "output_type": "stream",
          "text": [
            "[(3, 3), (3, 5), (3, 7), (3, 9), (3, 11), (3, 13), (5, 3), (5, 5), (5, 7), (5, 9), (5, 11), (5, 13), (7, 3), (7, 5), (7, 7), (7, 9), (7, 11), (7, 13), (9, 3), (9, 5), (9, 7), (9, 9), (9, 11), (9, 13), (11, 3), (11, 5), (11, 7), (11, 9), (11, 11), (11, 13), (13, 3), (13, 5), (13, 7), (13, 9), (13, 11), (13, 13)]\n",
            "144\n",
            "16\n"
          ]
        }
      ],
      "source": [
        "# generate hyper parameters\n",
        "layer_sizes = []\n",
        "for i in np.arange(3, 15, 2): # from (3,3) to (15, 15) because more neurons becomes very heavy and unnecessary\n",
        "    for f in np.arange(3, 15, 2):\n",
        "        layer_sizes.append((i, f))\n",
        "\n",
        "print(layer_sizes)\n",
        "\n",
        "# from previous testing we know that tanh activation and adam/sgd solvers are not great for this dataset, so we will not include\n",
        "# them in our hyperparameter tuning\n",
        "hyper_parameters = {\n",
        "    \"hidden_layer_sizes\": layer_sizes,\n",
        "    'activation': [\"relu\", \"logistic\"],\n",
        "    'solver': ['lbfgs'],\n",
        "    'alpha': [0.001, 0.01],\n",
        "    'learning_rate': ['adaptive'],\n",
        "}\n",
        "\n",
        "parameters = []\n",
        "for a in hyper_parameters['hidden_layer_sizes']:\n",
        "    for b in hyper_parameters['activation']:\n",
        "        for c in hyper_parameters['solver']:\n",
        "            for d in hyper_parameters['alpha']:\n",
        "                for e in hyper_parameters['learning_rate']:\n",
        "                    parameters.append((a, b, c, d, e))\n",
        "\n",
        "print(len(parameters))\n",
        "import psutil\n",
        "\n",
        "thread_count = psutil.cpu_count()\n",
        "print(thread_count)"
      ]
    },
    {
      "cell_type": "code",
      "execution_count": 18,
      "metadata": {},
      "outputs": [],
      "source": [
        "from sklearn.neural_network import MLPClassifier\n",
        "import psutil\n",
        "from tqdm.auto import tqdm\n",
        "\n",
        "x_train = x_d_zs_train_bal\n",
        "y_train = y_d_zs_train_bal\n",
        "x_valid = x_d_zs_valid\n",
        "y_valid = y_d_zs_valid\n",
        "x_test = x_d_zs_test\n",
        "y_test = y_d_zs_test\n",
        "\n",
        "# we'll now join both train and validation so that we can perform cross validation\n",
        "X = pd.concat([x_train, x_valid], ignore_index=True)\n",
        "y = pd.concat([y_train, y_valid], ignore_index=True)\n",
        "cv = 5  # fold count\n",
        "max_iter = 1000"
      ]
    },
    {
      "cell_type": "code",
      "execution_count": 19,
      "metadata": {},
      "outputs": [
        {
          "data": {
            "application/vnd.jupyter.widget-view+json": {
              "model_id": "7c1ae1c0610c4bf1af0d6261b146dd5b",
              "version_major": 2,
              "version_minor": 0
            },
            "text/plain": [
              "Running models...:   0%|          | 0/144 [00:00<?, ?it/s]"
            ]
          },
          "metadata": {},
          "output_type": "display_data"
        },
        {
          "name": "stdout",
          "output_type": "stream",
          "text": [
            "(MLPClassifier(alpha=0.001, hidden_layer_sizes=(13, 13),\n",
            "              learning_rate='adaptive', max_iter=1000, solver='lbfgs'), 0.9936075289920844, {'fit_time': array([30.04638267, 30.13645887, 30.51981807, 30.04037547, 29.14155197]), 'score_time': array([0.01801205, 0.01401472, 0.0140121 , 0.0150106 , 0.01801705]), 'test_balanced_accuracy': array([0.99185181, 0.99243295, 0.99122677, 0.99722862, 0.99468248]), 'test_recall_micro': array([0.9922338 , 0.99284692, 0.99162068, 0.99734314, 0.99488962]), 'test_recall_macro': array([0.99185181, 0.99243295, 0.99122677, 0.99722862, 0.99468248]), 'test_precision_micro': array([0.9922338 , 0.99284692, 0.99162068, 0.99734314, 0.99488962]), 'test_precision_macro': array([0.99181844, 0.99243023, 0.99119611, 0.99719302, 0.99464627]), 'test_f1_micro': array([0.9922338 , 0.99284692, 0.99162068, 0.99734314, 0.99488962]), 'test_f1_macro': array([0.99183145, 0.99243076, 0.99119924, 0.99721056, 0.99465967])}, ((13, 13), 'relu', 'lbfgs', 0.001, 'adaptive'))\n"
          ]
        }
      ],
      "source": [
        "models = []  # [(model, acc)]\n",
        "best_model = None\n",
        "# create queue for threads to get from\n",
        "\n",
        "for i in tqdm (range (len(parameters)), desc=\"Running models...\"):\n",
        "    p = parameters[i]\n",
        "    mlp = MLPClassifier(hidden_layer_sizes=p[0],\n",
        "                        activation=p[1],\n",
        "                        solver=p[2],\n",
        "                        alpha=p[3],\n",
        "                        learning_rate=p[4],\n",
        "                        max_iter=max_iter)\n",
        "    scores, avg_score = util.cross_validation(X, y, mlp, cv, multiclass=True)\n",
        "    models.append((mlp, avg_score, scores, p))\n",
        "    #print(f\"Model Average Score: {avg_score:.5f}\\nParameters: {p}\\n\\n\")\n",
        "\n",
        "for m in models:\n",
        "    if best_model is None or best_model[1] < m[1]:\n",
        "        best_model = m\n",
        "print(best_model)\n",
        "best_model[0].fit(x_train, y_train)\n",
        "filename = f\"models/classifier_B\"\n",
        "util.save_model(filename, best_model[0])"
      ]
    },
    {
      "cell_type": "markdown",
      "metadata": {},
      "source": [
        "### Evaluation"
      ]
    },
    {
      "cell_type": "code",
      "execution_count": 16,
      "metadata": {},
      "outputs": [
        {
          "data": {
            "image/png": "[encoded data removed]",
            "text/plain": [
              "<Figure size 432x288 with 2 Axes>"
            ]
          },
          "metadata": {
            "needs_background": "light"
          },
          "output_type": "display_data"
        },
        {
          "name": "stdout",
          "output_type": "stream",
          "text": [
            "Micro Precision: 0.9960474308300395\n",
            "Macro Precision: 0.9883138374999866\n",
            "Micro Recall: 0.9960474308300395\n",
            "Macro Recall: 0.9882827051373226\n",
            "Micro Accuracy: 0.9960474308300395\n",
            "Macro Accuracy: 0.9980237154150198\n",
            "Micro F-measure: 0.9960474308300395\n",
            "Macro F-measure: 0.988286699396318\n",
            "              precision    recall  f1-score   support\n",
            "\n",
            "           0     1.0000    0.9994    0.9997      1587\n",
            "           1     1.0000    0.9892    0.9946        93\n",
            "           2     0.9793    0.9844    0.9818       192\n",
            "           3     0.9739    0.9803    0.9770       152\n",
            "\n",
            "    accuracy                         0.9960      2024\n",
            "   macro avg     0.9883    0.9883    0.9883      2024\n",
            "weighted avg     0.9961    0.9960    0.9961      2024\n",
            "\n"
          ]
        }
      ],
      "source": [
        "from sklearn.metrics import multilabel_confusion_matrix\n",
        "from sklearn.metrics import plot_confusion_matrix\n",
        "from sklearn.metrics import classification_report\n",
        "\n",
        "# Showing results for the validation dataset\n",
        "filename = f\"models/classifier_B\"\n",
        "loaded_model = util.load_model(filename)\n",
        "y_pred = loaded_model.predict(x_valid)\n",
        "multilabel_confusion_matrix(y_valid, y_pred)\n",
        "plot_confusion_matrix(loaded_model, x_valid, y_valid)\n",
        "plt.show()\n",
        "_ = util.get_multiclass_results(y_valid, y_pred)\n",
        "print(classification_report(y_valid, y_pred, digits=4))"
      ]
    },
    {
      "cell_type": "code",
      "execution_count": 17,
      "metadata": {},
      "outputs": [
        {
          "data": {
            "image/png": "[encoded data removed]",
            "text/plain": [
              "<Figure size 432x288 with 2 Axes>"
            ]
          },
          "metadata": {
            "needs_background": "light"
          },
          "output_type": "display_data"
        },
        {
          "name": "stdout",
          "output_type": "stream",
          "text": [
            "Micro Precision: 0.9911154985192497\n",
            "Macro Precision: 0.9681743032593292\n",
            "Micro Recall: 0.9911154985192497\n",
            "Macro Recall: 0.9753670132252767\n",
            "Micro Accuracy: 0.9911154985192497\n",
            "Macro Accuracy: 0.9955577492596248\n",
            "Micro F-measure: 0.9911154985192497\n",
            "Macro F-measure: 0.9715680890139669\n",
            "              precision    recall  f1-score   support\n",
            "\n",
            "           0     0.9987    1.0000    0.9994       795\n",
            "           1     1.0000    0.9483    0.9735        58\n",
            "           2     0.9438    0.9655    0.9545        87\n",
            "           3     0.9589    0.9589    0.9589        73\n",
            "\n",
            "    accuracy                         0.9911      1013\n",
            "   macro avg     0.9754    0.9682    0.9716      1013\n",
            "weighted avg     0.9912    0.9911    0.9911      1013\n",
            "\n"
          ]
        }
      ],
      "source": [
        "# Showing results for the TEST dataset\n",
        "y_pred = loaded_model.predict(x_test)\n",
        "multilabel_confusion_matrix(y_test, y_pred)\n",
        "plot_confusion_matrix(loaded_model, x_test, y_test)\n",
        "plt.show()\n",
        "_ = util.get_multiclass_results(y_test, y_pred)\n",
        "print(classification_report(y_test, y_pred, digits=4))"
      ]
    },
    {
      "cell_type": "code",
      "execution_count": null,
      "metadata": {},
      "outputs": [],
      "source": []
    }
  ],
  "metadata": {
    "interpreter": {
      "hash": "9d52ee8c1c203bf31f104091571fb31e1631adf31fe00531b06484ec61bb0830"
    },
    "kernelspec": {
      "display_name": "Python 3.10.4 ('ist_ciic_env')",
      "language": "python",
      "name": "python3"
    },
    "language_info": {
      "codemirror_mode": {
        "name": "ipython",
        "version": 3
      },
      "file_extension": ".py",
      "mimetype": "text/x-python",
      "name": "python",
      "nbconvert_exporter": "python",
      "pygments_lexer": "ipython3",
      "version": "3.10.4"
    }
  },
  "nbformat": 4,
  "nbformat_minor": 0
}
